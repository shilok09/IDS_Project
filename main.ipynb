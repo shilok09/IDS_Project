{
 "cells": [
  {
   "cell_type": "markdown",
   "metadata": {},
   "source": [
    "# IDS Final Project\n",
    "SHILOK KUMAR & AMMEN QURESHI"
   ]
  },
  {
   "cell_type": "markdown",
   "metadata": {},
   "source": [
    "READING DATA"
   ]
  },
  {
   "cell_type": "code",
   "execution_count": 152,
   "metadata": {},
   "outputs": [],
   "source": [
    "import json\n",
    "import pandas as pd\n",
    "import numpy as np\n",
    "\n",
    "with open('electronics.json', 'r') as file:\n",
    "    data = json.load(file)\n",
    "\n",
    "df = pd.DataFrame(data)"
   ]
  },
  {
   "cell_type": "markdown",
   "metadata": {},
   "source": [
    "DATA INFORMATION ABOUT THE DATA SET"
   ]
  },
  {
   "cell_type": "code",
   "execution_count": 153,
   "metadata": {},
   "outputs": [
    {
     "name": "stdout",
     "output_type": "stream",
     "text": [
      "----------------------[DATA INFORMATION]----------------------\n",
      "There are 19000 cells/values in the provided dataset.\n",
      "There are 1000 rows and 19 columns in the provided Datasets.\n",
      "Dimensions of the Given Data : 2\n",
      "Total Missing Values Across All Columns: 664\n",
      "DATA INFO: \n",
      "<class 'pandas.core.frame.DataFrame'>\n",
      "RangeIndex: 1000 entries, 0 to 999\n",
      "Columns: 19 entries, Customer_ID to Will_Purchase_Next_Month\n",
      "dtypes: int64(1), object(18)\n",
      "memory usage: 148.6+ KB\n"
     ]
    }
   ],
   "source": [
    "print(\"----------------------[DATA INFORMATION]----------------------\")\n",
    "print(f\"There are {df.size} cells/values in the provided dataset.\")\n",
    "rows, cols = df.shape\n",
    "print(f\"There are {rows} rows and {cols} columns in the provided Datasets.\")\n",
    "print(f\"Dimensions of the Given Data : {df.ndim}\")\n",
    "mvalues = df.apply(lambda x: x=='').sum()\n",
    "total = mvalues.sum()\n",
    "print(\"Total Missing Values Across All Columns:\", total)\n",
    "print(\"DATA INFO: \")\n",
    "df.info(verbose = False)"
   ]
  },
  {
   "cell_type": "markdown",
   "metadata": {},
   "source": [
    "DATA CLEANING"
   ]
  },
  {
   "cell_type": "code",
   "execution_count": 154,
   "metadata": {},
   "outputs": [
    {
     "name": "stdout",
     "output_type": "stream",
     "text": [
      "THESE ARE THE COLUMNS OF THE DATASET WITH THE COUNT OF NULL VALUES\n",
      "Customer_ID                      32\n",
      "Age                              33\n",
      "Gender                           33\n",
      "Income_Level                     41\n",
      "Address                          32\n",
      "Transaction_ID                   39\n",
      "Purchase_Date                    35\n",
      "Product_ID                       40\n",
      "Product_Category                 44\n",
      "Brand                            46\n",
      "Purchase_Amount                  33\n",
      "Average_Spending_Per_Purchase    26\n",
      "Purchase_Frequency_Per_Month     37\n",
      "Brand_Affinity_Score             47\n",
      "Product_Category_Preferences     31\n",
      "Month                            40\n",
      "Year                             39\n",
      "Season                           36\n",
      "Will_Purchase_Next_Month          0\n",
      "dtype: int64\n",
      "Total Missing Values in The Provided DataSet : 664\n",
      "Total Missing Values After Data Cleaning: 0\n"
     ]
    }
   ],
   "source": [
    "nullValues = df.apply(lambda x: x=='').sum()\n",
    "print(\"THESE ARE THE COLUMNS OF THE DATASET WITH THE COUNT OF NULL VALUES\")\n",
    "print(nullValues)\n",
    "print(\"Total Missing Values in The Provided DataSet :\",nullValues.sum())\n",
    "\n",
    "#replacing blank spaces with NA values \n",
    "df.replace(\"\", pd.NA, inplace=True)\n",
    "\n",
    "categorical=[\n",
    "    \"Customer_ID\", \n",
    "    \"Gender\", \n",
    "    \"Income_Level\", \n",
    "    \"Address\", \n",
    "    \"Transaction_ID\", \n",
    "    \"Product_ID\", \n",
    "    \"Product_Category\", \n",
    "    \"Brand\", \n",
    "    \"Purchase_Date\", \n",
    "    \"Product_Category_Preferences\", \n",
    "    \"Month\", \n",
    "    \"Season\",   \n",
    "]\n",
    "numerical=[\n",
    "    \"Age\", \n",
    "    \"Purchase_Amount\", \n",
    "    \"Average_Spending_Per_Purchase\", \n",
    "    \"Purchase_Frequency_Per_Month\", \n",
    "    \"Brand_Affinity_Score\", \n",
    "    \"Year\",\n",
    "    \"Will_Purchase_Next_Month\"\n",
    "]\n",
    "#Replacing Null values is Categorical Data with Most Frequent Values and Numerical Data With Mean Values\n",
    "for col in numerical:\n",
    "    df[col] = pd.to_numeric(df[col], errors='coerce') \n",
    "\n",
    "df[numerical]=df[numerical].fillna(df[numerical].mean())\n",
    "df[categorical] = df[categorical].apply(lambda col: col.fillna(col.mode()[0]))\n",
    "print(\"Total Missing Values After Data Cleaning:\",df.isna().sum().sum())\n",
    "\n",
    "\n",
    "#Addressing Inconsistencies\n",
    "df['Season'] = df['Season'].str.title()\n",
    "seasons=['Fall','Winter','Spring','Summer']\n",
    "df=df[df['Season'].isin(seasons)]\n",
    "\n",
    "df['Purchase_Date'] = pd.to_datetime(df['Purchase_Date'], errors='coerce') \n",
    "df['Income_Level']=df['Income_Level'].str.capitalize()\n",
    "\n"
   ]
  },
  {
   "cell_type": "markdown",
   "metadata": {},
   "source": [
    "REMOVING OUTLIERS USING IQR METHOD: "
   ]
  },
  {
   "cell_type": "code",
   "execution_count": 155,
   "metadata": {},
   "outputs": [
    {
     "name": "stdout",
     "output_type": "stream",
     "text": [
      "Age\n",
      "Lower Bound: -11.5\n",
      "Upper Bound: 112.5\n",
      "Outliers: Age\n",
      "False    988\n",
      "Name: count, dtype: int64\n",
      "Mean value: 49.75661057692308\n",
      "\n",
      "\n",
      "Purchase_Amount\n",
      "Lower Bound: -211.0\n",
      "Upper Bound: 717.0\n",
      "Outliers: Purchase_Amount\n",
      "False    988\n",
      "Name: count, dtype: int64\n",
      "Mean value: 251.1156208891557\n",
      "\n",
      "\n",
      "Average_Spending_Per_Purchase\n",
      "Lower Bound: -36.625\n",
      "Upper Bound: 140.375\n",
      "Outliers: Average_Spending_Per_Purchase\n",
      "False    988\n",
      "Name: count, dtype: int64\n",
      "Mean value: 51.54000189777329\n",
      "\n",
      "\n",
      "Purchase_Frequency_Per_Month\n",
      "Lower Bound: -4.5\n",
      "Upper Bound: 15.5\n",
      "Outliers: Purchase_Frequency_Per_Month\n",
      "False    988\n",
      "Name: count, dtype: int64\n",
      "Mean value: 5.442914979757085\n",
      "\n",
      "\n",
      "Brand_Affinity_Score\n",
      "Lower Bound: -4.5\n",
      "Upper Bound: 15.5\n",
      "Outliers: Brand_Affinity_Score\n",
      "False    988\n",
      "Name: count, dtype: int64\n",
      "Mean value: 5.371258078841734\n",
      "\n",
      "\n",
      "Year\n",
      "Lower Bound: 1946.875\n",
      "Upper Bound: 2047.875\n",
      "Outliers: Year\n",
      "False    988\n",
      "Name: count, dtype: int64\n",
      "Mean value: 1996.9433198380566\n",
      "\n",
      "\n",
      "Will_Purchase_Next_Month\n",
      "Lower Bound: 1.0\n",
      "Upper Bound: 1.0\n",
      "Outliers: Will_Purchase_Next_Month\n",
      "False    858\n",
      "True     130\n",
      "Name: count, dtype: int64\n",
      "Mean value: 0.868421052631579\n",
      "\n",
      "\n"
     ]
    },
    {
     "name": "stderr",
     "output_type": "stream",
     "text": [
      "C:\\Users\\admin\\AppData\\Local\\Temp\\ipykernel_5972\\1259811910.py:20: FutureWarning: Setting an item of incompatible dtype is deprecated and will raise an error in a future version of pandas. Value '0.868421052631579' has dtype incompatible with int64, please explicitly cast to a compatible dtype first.\n",
      "  df.loc[outliers, column] = mean\n"
     ]
    }
   ],
   "source": [
    "def removeOutliers(df, column):\n",
    "    Q1 = df[column].quantile(0.25)\n",
    "    Q3 = df[column].quantile(0.75)\n",
    "    iqr = Q3 - Q1\n",
    "    \n",
    "    lower_bound = Q1 - 1.5 * iqr\n",
    "    upper_bound = Q3 + 1.5 * iqr\n",
    "    print(f\"{column}\")\n",
    "    print(f\"Lower Bound: {lower_bound}\")\n",
    "    print(f\"Upper Bound: {upper_bound}\")\n",
    "\n",
    "    outliers=(df[column]<lower_bound)|(df[column]> upper_bound)\n",
    "\n",
    "    print(f\"Outliers:\",outliers.value_counts())\n",
    "    \n",
    "    mean = df[column].mean()\n",
    "    print(f\"Mean value: {mean}\")\n",
    "    \n",
    "    # Replacing the outliers with the mean value\n",
    "    df.loc[outliers, column] = mean\n",
    "    return df\n",
    "\n",
    "for column in numerical:\n",
    "    df=removeOutliers(df,column)\n",
    "    print('\\n')\n",
    "\n",
    "\n",
    "\n"
   ]
  }
 ],
 "metadata": {
  "kernelspec": {
   "display_name": "Python 3",
   "language": "python",
   "name": "python3"
  },
  "language_info": {
   "codemirror_mode": {
    "name": "ipython",
    "version": 3
   },
   "file_extension": ".py",
   "mimetype": "text/x-python",
   "name": "python",
   "nbconvert_exporter": "python",
   "pygments_lexer": "ipython3",
   "version": "3.12.5"
  }
 },
 "nbformat": 4,
 "nbformat_minor": 2
}
